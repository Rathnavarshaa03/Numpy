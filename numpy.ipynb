{
  "cells": [
    {
      "cell_type": "code",
      "execution_count": null,
      "id": "f6f864fd",
      "metadata": {
        "id": "f6f864fd",
        "outputId": "5fa3ee78-2dae-4584-9b04-d3cfbf9e3b5e"
      },
      "outputs": [
        {
          "name": "stdout",
          "output_type": "stream",
          "text": [
            "(array([1, 4]),)\n"
          ]
        }
      ],
      "source": [
        "import numpy as np\n",
        "arr=np.array([1,6,2,7,6,4])\n",
        "x=np.where(arr==6)\n",
        "print(x)"
      ]
    },
    {
      "cell_type": "code",
      "execution_count": null,
      "id": "d90c91dd",
      "metadata": {
        "id": "d90c91dd",
        "outputId": "77e36f4f-f0a3-4dc1-d65a-6a5981e8f8a5"
      },
      "outputs": [
        {
          "name": "stdout",
          "output_type": "stream",
          "text": [
            "(array([3]),)\n"
          ]
        }
      ],
      "source": [
        "x=np.where(arr==7)\n",
        "print(x)"
      ]
    },
    {
      "cell_type": "code",
      "execution_count": null,
      "id": "be72da4c",
      "metadata": {
        "id": "be72da4c",
        "outputId": "b7ab3085-650c-49cb-c9ec-bec5cbd59c33"
      },
      "outputs": [
        {
          "name": "stdout",
          "output_type": "stream",
          "text": [
            "(array([1, 2, 4, 5]),)\n"
          ]
        }
      ],
      "source": [
        "import numpy as np\n",
        "arr=np.array([1,6,2,7,6,4])\n",
        "x=np.where(arr%2==0)\n",
        "print(x)"
      ]
    },
    {
      "cell_type": "code",
      "execution_count": null,
      "id": "6d5008d8",
      "metadata": {
        "id": "6d5008d8",
        "outputId": "36443014-e401-47bd-fb72-b0aed82ae7f4"
      },
      "outputs": [
        {
          "name": "stdout",
          "output_type": "stream",
          "text": [
            "5\n"
          ]
        }
      ],
      "source": [
        "import numpy as np\n",
        "arr=np.array([0,1,2,2,7,8,9])\n",
        "x=np.searchsorted(arr,8,side='left')\n",
        "print(x)"
      ]
    },
    {
      "cell_type": "code",
      "execution_count": null,
      "id": "6ed8c081",
      "metadata": {
        "id": "6ed8c081",
        "outputId": "d9c12d86-89ee-4777-c55d-ff2fe6084923"
      },
      "outputs": [
        {
          "name": "stdout",
          "output_type": "stream",
          "text": [
            "6\n"
          ]
        }
      ],
      "source": [
        "import numpy as np\n",
        "arr=np.array([0,1,2,2,7,8,9])\n",
        "x=np.searchsorted(arr,8,side='right')\n",
        "print(x)"
      ]
    },
    {
      "cell_type": "code",
      "execution_count": null,
      "id": "29a226f4",
      "metadata": {
        "id": "29a226f4",
        "outputId": "1db118e5-d47e-4cd4-9cd7-5a78bf5b09e9"
      },
      "outputs": [
        {
          "name": "stdout",
          "output_type": "stream",
          "text": [
            "[2 4 5 6 7 9]\n"
          ]
        }
      ],
      "source": [
        "import numpy as np\n",
        "arr=np.array([9,5,2,7,6,4])\n",
        "print(np.sort(arr))\n"
      ]
    },
    {
      "cell_type": "code",
      "execution_count": null,
      "id": "41933797",
      "metadata": {
        "id": "41933797",
        "outputId": "e4920d48-810e-4b99-8047-8246483e5b9e"
      },
      "outputs": [
        {
          "name": "stdout",
          "output_type": "stream",
          "text": [
            "[[4 7 9]\n",
            " [1 4 9]]\n"
          ]
        }
      ],
      "source": [
        "import numpy as np\n",
        "arr=np.array([[7,4,9],[9,1,4]])\n",
        "print(np.sort(arr))\n"
      ]
    },
    {
      "cell_type": "code",
      "execution_count": null,
      "id": "8ebab842",
      "metadata": {
        "id": "8ebab842",
        "outputId": "2d6efc04-88e0-4cc0-a718-088275bcb8d8"
      },
      "outputs": [
        {
          "name": "stdout",
          "output_type": "stream",
          "text": [
            "[False, True, False, True]\n",
            "[ 78 100]\n"
          ]
        }
      ],
      "source": [
        "import numpy as np\n",
        "arr=np.array([31,78,69,100])\n",
        "x=[False,True,False,True]\n",
        "newarr=arr[x]\n",
        "print(x)\n",
        "print(newarr)"
      ]
    },
    {
      "cell_type": "code",
      "execution_count": null,
      "id": "a0b93c21",
      "metadata": {
        "id": "a0b93c21",
        "outputId": "39469110-1906-4188-d8fb-3e7116050cc6"
      },
      "outputs": [
        {
          "name": "stdout",
          "output_type": "stream",
          "text": [
            "[False  True False  True]\n",
            "[ 78 100]\n"
          ]
        }
      ],
      "source": [
        "import numpy as np\n",
        "arr=np.array([31,78,69,100])\n",
        "filter_arr=arr>70\n",
        "newarr=arr[filter_arr]\n",
        "print(filter_arr)\n",
        "print(newarr)"
      ]
    },
    {
      "cell_type": "code",
      "execution_count": null,
      "id": "67d97288",
      "metadata": {
        "id": "67d97288"
      },
      "outputs": [],
      "source": []
    }
  ],
  "metadata": {
    "kernelspec": {
      "display_name": "Python 3 (ipykernel)",
      "language": "python",
      "name": "python3"
    },
    "language_info": {
      "codemirror_mode": {
        "name": "ipython",
        "version": 3
      },
      "file_extension": ".py",
      "mimetype": "text/x-python",
      "name": "python",
      "nbconvert_exporter": "python",
      "pygments_lexer": "ipython3",
      "version": "3.11.5"
    },
    "colab": {
      "provenance": []
    }
  },
  "nbformat": 4,
  "nbformat_minor": 5
}