{
  "cells": [
    {
      "cell_type": "code",
      "execution_count": null,
      "id": "c75d04b3",
      "metadata": {
        "id": "c75d04b3",
        "outputId": "70ef62a6-a1e9-4aec-c4fe-f0d8d308abea"
      },
      "outputs": [
        {
          "name": "stdout",
          "output_type": "stream",
          "text": [
            "[3 4 5 6]\n"
          ]
        }
      ],
      "source": [
        "import numpy as np\n",
        "arr=np.array([1,2,3,4,5,6,7,8,9])\n",
        "slice1=arr[2:6]\n",
        "print(slice1)"
      ]
    },
    {
      "cell_type": "code",
      "execution_count": null,
      "id": "41a96900",
      "metadata": {
        "id": "41a96900",
        "outputId": "09dbd7c9-2871-488c-f089-12ffaa093904"
      },
      "outputs": [
        {
          "name": "stdout",
          "output_type": "stream",
          "text": [
            "[1 3 5 7 9]\n"
          ]
        }
      ],
      "source": [
        "slice2=arr[::2]\n",
        "print(slice2)"
      ]
    },
    {
      "cell_type": "code",
      "execution_count": null,
      "id": "bb041727",
      "metadata": {
        "id": "bb041727",
        "outputId": "b3825582-0315-470a-f29c-165d8e34f1f8"
      },
      "outputs": [
        {
          "name": "stdout",
          "output_type": "stream",
          "text": [
            "[9, 8, 7, 6, 5, 4, 3, 2, 1]\n"
          ]
        }
      ],
      "source": [
        "import numpy as np\n",
        "arr=([1,2,3,4,5,6,7,8,9])\n",
        "reversed_arr=arr[::-1]\n",
        "print(reversed_arr)"
      ]
    },
    {
      "cell_type": "code",
      "execution_count": null,
      "id": "8031754e",
      "metadata": {
        "id": "8031754e",
        "outputId": "b6f36c0b-9257-4ab0-9263-8ada46fb577c"
      },
      "outputs": [
        {
          "name": "stdout",
          "output_type": "stream",
          "text": [
            "[1 4 7]\n"
          ]
        }
      ],
      "source": [
        "slice3=arr[::3]\n",
        "print(slice3)"
      ]
    },
    {
      "cell_type": "code",
      "execution_count": null,
      "id": "b98df537",
      "metadata": {
        "id": "b98df537",
        "outputId": "e548faf5-2062-476d-da51-d0c96e0a60e1"
      },
      "outputs": [
        {
          "name": "stdout",
          "output_type": "stream",
          "text": [
            "[[2 3]\n",
            " [5 6]]\n"
          ]
        }
      ],
      "source": [
        "import numpy as np\n",
        "arr=np.array([[1,2,3],[4,5,6],[7,8,9]])\n",
        "subarray=arr[0:2,1:3]\n",
        "print(subarray)"
      ]
    },
    {
      "cell_type": "code",
      "execution_count": null,
      "id": "5a932384",
      "metadata": {
        "id": "5a932384",
        "outputId": "b2c13919-2c35-40d3-89d0-f256c266d147"
      },
      "outputs": [
        {
          "name": "stdout",
          "output_type": "stream",
          "text": [
            "[[1]\n",
            " [4]]\n"
          ]
        }
      ],
      "source": [
        "import numpy as np\n",
        "arr=np.array([[1,2,3],[4,5,6],[7,8,9]])\n",
        "print(arr[:2,:1])"
      ]
    },
    {
      "cell_type": "code",
      "execution_count": null,
      "id": "179ddfa7",
      "metadata": {
        "id": "179ddfa7",
        "outputId": "4c396a55-769e-4396-eba9-20e0778a964d"
      },
      "outputs": [
        {
          "name": "stdout",
          "output_type": "stream",
          "text": [
            "[1 4 7]\n"
          ]
        }
      ],
      "source": [
        "import numpy as np\n",
        "arr=np.array([[1,2,3],[4,5,6],[7,8,9]])\n",
        "col1=arr[:,0]\n",
        "print(col1)"
      ]
    },
    {
      "cell_type": "code",
      "execution_count": null,
      "id": "7ab3d1c5",
      "metadata": {
        "id": "7ab3d1c5",
        "outputId": "7d6a2272-2525-4a7a-c596-51ca7f9e6888"
      },
      "outputs": [
        {
          "name": "stdout",
          "output_type": "stream",
          "text": [
            "[1 2 3]\n"
          ]
        }
      ],
      "source": [
        "import numpy as np\n",
        "row1=arr[0,:]\n",
        "print(row1)"
      ]
    },
    {
      "cell_type": "code",
      "execution_count": null,
      "id": "1c3067c3",
      "metadata": {
        "id": "1c3067c3",
        "outputId": "8016f070-bf54-4ad2-fe20-6d304b2db934"
      },
      "outputs": [
        {
          "name": "stdout",
          "output_type": "stream",
          "text": [
            "10\n",
            "40\n"
          ]
        }
      ],
      "source": [
        "import numpy as np\n",
        "import array\n",
        "arr=array.array('i',[10,20,30,40,50])\n",
        "print(arr[0])\n",
        "print(arr[3])"
      ]
    },
    {
      "cell_type": "code",
      "execution_count": null,
      "id": "5e3942fd",
      "metadata": {
        "id": "5e3942fd",
        "outputId": "90406e3c-7d71-4489-85c3-9b7df141e72a"
      },
      "outputs": [
        {
          "name": "stdout",
          "output_type": "stream",
          "text": [
            "1\n",
            "8\n"
          ]
        }
      ],
      "source": [
        "import numpy as np\n",
        "arr=np.array([[1,2,3],[4,5,6],[7,8,9]])\n",
        "print(arr[0,0])\n",
        "print(arr[2,1])"
      ]
    },
    {
      "cell_type": "code",
      "execution_count": null,
      "id": "ff61d297",
      "metadata": {
        "id": "ff61d297",
        "outputId": "c30be955-d6f4-4856-8b65-95e33812c96f"
      },
      "outputs": [
        {
          "name": "stdout",
          "output_type": "stream",
          "text": [
            "20\n"
          ]
        }
      ],
      "source": [
        "import numpy as np\n",
        "arr=([10,20,30])\n",
        "print(arr[1])"
      ]
    },
    {
      "cell_type": "code",
      "execution_count": null,
      "id": "75841e34",
      "metadata": {
        "id": "75841e34",
        "outputId": "b6b4052e-edb9-4584-b310-a07394ef6e09"
      },
      "outputs": [
        {
          "name": "stdout",
          "output_type": "stream",
          "text": [
            "30\n"
          ]
        }
      ],
      "source": [
        "import numpy as np\n",
        "print(arr[-1])"
      ]
    },
    {
      "cell_type": "code",
      "execution_count": null,
      "id": "d386aad0",
      "metadata": {
        "id": "d386aad0",
        "outputId": "b82febae-72d2-4eeb-a335-d0906344f283"
      },
      "outputs": [
        {
          "name": "stdout",
          "output_type": "stream",
          "text": [
            "[20, 30, 40]\n"
          ]
        }
      ],
      "source": [
        "import numpy as np\n",
        "arr=([10,20,30,40,50,60,70])\n",
        "print(arr[1:4])"
      ]
    },
    {
      "cell_type": "code",
      "execution_count": null,
      "id": "4a6c6a75",
      "metadata": {
        "id": "4a6c6a75",
        "outputId": "38a1b401-e0c4-4dd9-e887-0166c21b8167"
      },
      "outputs": [
        {
          "name": "stdout",
          "output_type": "stream",
          "text": [
            "[30 40 50]\n"
          ]
        }
      ],
      "source": [
        "import numpy as np\n",
        "arr=np.array([10,20,30,40,50])\n",
        "print(arr[arr>25])"
      ]
    },
    {
      "cell_type": "code",
      "execution_count": null,
      "id": "2fcc9ac3",
      "metadata": {
        "id": "2fcc9ac3",
        "outputId": "45d7ab7f-9079-44ef-baad-79c79cf00b6c"
      },
      "outputs": [
        {
          "name": "stdout",
          "output_type": "stream",
          "text": [
            "[20 40]\n"
          ]
        }
      ],
      "source": [
        "import numpy as np\n",
        "print(arr[[1,3]])"
      ]
    },
    {
      "cell_type": "code",
      "execution_count": null,
      "id": "a0cb01f0",
      "metadata": {
        "id": "a0cb01f0",
        "outputId": "f3d362b1-3765-4447-92c6-def8f4fff2dc"
      },
      "outputs": [
        {
          "name": "stdout",
          "output_type": "stream",
          "text": [
            "[[1 2 5 6]\n",
            " [3 4 7 8]]\n"
          ]
        }
      ],
      "source": [
        "import numpy as np\n",
        "arr1=np.array([[1,2],[3,4]])\n",
        "arr2=np.array([[5,6],[7,8]])\n",
        "result=np.hstack((arr1,arr2))\n",
        "print(result)"
      ]
    },
    {
      "cell_type": "code",
      "execution_count": null,
      "id": "b7538ad0",
      "metadata": {
        "id": "b7538ad0",
        "outputId": "8944fb49-cd38-4268-ad08-1d4e62ad3b06"
      },
      "outputs": [
        {
          "name": "stdout",
          "output_type": "stream",
          "text": [
            "[[1 2]\n",
            " [3 4]\n",
            " [5 6]\n",
            " [7 8]]\n"
          ]
        }
      ],
      "source": [
        "import numpy as np\n",
        "arr1=np.array([[1,2],[3,4]])\n",
        "arr2=np.array([[5,6],[7,8]])\n",
        "result=np.vstack((arr1,arr2))\n",
        "print(result)"
      ]
    },
    {
      "cell_type": "code",
      "execution_count": null,
      "id": "8378b0cd",
      "metadata": {
        "id": "8378b0cd",
        "outputId": "917829a8-2a93-4620-d1a0-80cbc8c72474"
      },
      "outputs": [
        {
          "name": "stdout",
          "output_type": "stream",
          "text": [
            "[[[1 5]\n",
            "  [2 6]]\n",
            "\n",
            " [[3 7]\n",
            "  [4 8]]]\n"
          ]
        }
      ],
      "source": [
        "import numpy as np\n",
        "arr1=np.array([[1,2],[3,4]])\n",
        "arr2=np.array([[5,6],[7,8]])\n",
        "result=np.dstack((arr1,arr2))\n",
        "print(result)"
      ]
    },
    {
      "cell_type": "code",
      "execution_count": null,
      "id": "70010760",
      "metadata": {
        "id": "70010760",
        "outputId": "dcb43b19-7eab-4b20-f95e-93fe74275926"
      },
      "outputs": [
        {
          "name": "stdout",
          "output_type": "stream",
          "text": [
            "[array([1, 2]), array([3, 4]), array([5, 6])]\n"
          ]
        }
      ],
      "source": [
        "import numpy as np\n",
        "arr=np.array([1,2,3,4,5,6])\n",
        "result=np.split(arr,3)\n",
        "print(result)"
      ]
    },
    {
      "cell_type": "code",
      "execution_count": null,
      "id": "b96b61f4",
      "metadata": {
        "id": "b96b61f4",
        "outputId": "a52cd31e-526e-4b1f-8109-1862ae274f3f"
      },
      "outputs": [
        {
          "name": "stdout",
          "output_type": "stream",
          "text": [
            "[array([1]), array([2]), array([3]), array([4]), array([5])]\n"
          ]
        }
      ],
      "source": [
        "import numpy as np\n",
        "arr=np.array([1,2,3,4,5])\n",
        "result=np.array_split(arr,5)\n",
        "print(result)"
      ]
    },
    {
      "cell_type": "code",
      "execution_count": null,
      "id": "8cee0edd",
      "metadata": {
        "id": "8cee0edd"
      },
      "outputs": [],
      "source": []
    }
  ],
  "metadata": {
    "kernelspec": {
      "display_name": "Python 3 (ipykernel)",
      "language": "python",
      "name": "python3"
    },
    "language_info": {
      "codemirror_mode": {
        "name": "ipython",
        "version": 3
      },
      "file_extension": ".py",
      "mimetype": "text/x-python",
      "name": "python",
      "nbconvert_exporter": "python",
      "pygments_lexer": "ipython3",
      "version": "3.11.5"
    },
    "colab": {
      "provenance": []
    }
  },
  "nbformat": 4,
  "nbformat_minor": 5
}